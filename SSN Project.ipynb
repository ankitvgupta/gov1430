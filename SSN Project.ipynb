{
 "metadata": {
  "anaconda-cloud": {},
  "kernelspec": {
   "display_name": "Python [default]",
   "language": "python",
   "name": "python2"
  },
  "language_info": {
   "codemirror_mode": {
    "name": "ipython",
    "version": 2
   },
   "file_extension": ".py",
   "mimetype": "text/x-python",
   "name": "python",
   "nbconvert_exporter": "python",
   "pygments_lexer": "ipython2",
   "version": "2.7.12"
  },
  "name": "",
  "signature": "sha256:773009f37f07a76c6d50eb83118fe52e3ed33f4e23f76bb56a3ada9b6eede5e6"
 },
 "nbformat": 3,
 "nbformat_minor": 0,
 "worksheets": [
  {
   "cells": [
    {
     "cell_type": "code",
     "collapsed": true,
     "input": [
      "import numpy as np\n",
      "import pandas as pd\n",
      "import matplotlib.pyplot as plt\n",
      "\n",
      "%matplotlib inline"
     ],
     "language": "python",
     "metadata": {},
     "outputs": [],
     "prompt_number": 15
    },
    {
     "cell_type": "code",
     "collapsed": false,
     "input": [
      "GROUPNUMBERS = np.concatenate((np.array([1,3,5,7,9]),\n",
      "                                 np.arange(start=10, stop=100, step=2),\n",
      "                                 np.array([2,4,6,8]),\n",
      "                                 np.arange(start=11, stop=101, step=2)\n",
      "                              ))\n",
      "\n",
      "def grp_to_ordered(grp):\n",
      "    \"\"\"\n",
      "    Function to convert group numbers to ordered integers\n",
      "    \"\"\"\n",
      "    return np.argwhere(GROUPNUMBERS==grp)[0][0]\n",
      "    \n",
      "def ordered_to_grp(ord_):\n",
      "    \"\"\"\n",
      "    Function to convert ordered integers to group numbers\n",
      "    \"\"\"\n",
      "    return GROUPNUMBERS[ord_ -1]"
     ],
     "language": "python",
     "metadata": {},
     "outputs": [],
     "prompt_number": 16
    },
    {
     "cell_type": "code",
     "collapsed": false,
     "input": [
      "GROUPNUMBERS"
     ],
     "language": "python",
     "metadata": {},
     "outputs": [
      {
       "metadata": {},
       "output_type": "pyout",
       "prompt_number": 17,
       "text": [
        "array([ 1,  3,  5,  7,  9, 10, 12, 14, 16, 18, 20, 22, 24, 26, 28, 30, 32,\n",
        "       34, 36, 38, 40, 42, 44, 46, 48, 50, 52, 54, 56, 58, 60, 62, 64, 66,\n",
        "       68, 70, 72, 74, 76, 78, 80, 82, 84, 86, 88, 90, 92, 94, 96, 98,  2,\n",
        "        4,  6,  8, 11, 13, 15, 17, 19, 21, 23, 25, 27, 29, 31, 33, 35, 37,\n",
        "       39, 41, 43, 45, 47, 49, 51, 53, 55, 57, 59, 61, 63, 65, 67, 69, 71,\n",
        "       73, 75, 77, 79, 81, 83, 85, 87, 89, 91, 93, 95, 97, 99])"
       ]
      }
     ],
     "prompt_number": 17
    },
    {
     "cell_type": "code",
     "collapsed": false,
     "input": [
      "grp_to_ordered(5)"
     ],
     "language": "python",
     "metadata": {},
     "outputs": [
      {
       "metadata": {},
       "output_type": "pyout",
       "prompt_number": 18,
       "text": [
        "2"
       ]
      }
     ],
     "prompt_number": 18
    },
    {
     "cell_type": "code",
     "collapsed": false,
     "input": [
      "ordered_to_grp(2)"
     ],
     "language": "python",
     "metadata": {},
     "outputs": [
      {
       "metadata": {},
       "output_type": "pyout",
       "prompt_number": 19,
       "text": [
        "3"
       ]
      }
     ],
     "prompt_number": 19
    },
    {
     "cell_type": "code",
     "collapsed": true,
     "input": [
      "delaware_ssns = pd.read_csv('delaware_ssns.csv')"
     ],
     "language": "python",
     "metadata": {},
     "outputs": [],
     "prompt_number": 20
    },
    {
     "cell_type": "code",
     "collapsed": false,
     "input": [
      "delaware_ssns.head()"
     ],
     "language": "python",
     "metadata": {},
     "outputs": [
      {
       "html": [
        "<div style=\"max-width:1500px;overflow:auto;\">\n",
        "<table border=\"1\" class=\"dataframe\">\n",
        "  <thead>\n",
        "    <tr style=\"text-align: right;\">\n",
        "      <th></th>\n",
        "      <th>ssn</th>\n",
        "      <th>lastname</th>\n",
        "      <th>firstname</th>\n",
        "      <th>middle</th>\n",
        "      <th>verified_type</th>\n",
        "      <th>date_of_death</th>\n",
        "      <th>date_of_birth</th>\n",
        "    </tr>\n",
        "  </thead>\n",
        "  <tbody>\n",
        "    <tr>\n",
        "      <th>0</th>\n",
        "      <td>221010002</td>\n",
        "      <td>RYAN</td>\n",
        "      <td>GEORGE</td>\n",
        "      <td>NaN</td>\n",
        "      <td>NaN</td>\n",
        "      <td>9001974</td>\n",
        "      <td>8021900</td>\n",
        "    </tr>\n",
        "    <tr>\n",
        "      <th>1</th>\n",
        "      <td>221010004</td>\n",
        "      <td>STANISZEWSKI</td>\n",
        "      <td>BOLESLAW</td>\n",
        "      <td>NaN</td>\n",
        "      <td>NaN</td>\n",
        "      <td>4001980</td>\n",
        "      <td>9281896</td>\n",
        "    </tr>\n",
        "    <tr>\n",
        "      <th>2</th>\n",
        "      <td>221010006</td>\n",
        "      <td>BREWINGTON</td>\n",
        "      <td>GEORGE</td>\n",
        "      <td>NaN</td>\n",
        "      <td>NaN</td>\n",
        "      <td>2001974</td>\n",
        "      <td>9061890</td>\n",
        "    </tr>\n",
        "    <tr>\n",
        "      <th>3</th>\n",
        "      <td>221010011</td>\n",
        "      <td>BETLEY</td>\n",
        "      <td>JOHN</td>\n",
        "      <td>NaN</td>\n",
        "      <td>NaN</td>\n",
        "      <td>6001982</td>\n",
        "      <td>12271915</td>\n",
        "    </tr>\n",
        "    <tr>\n",
        "      <th>4</th>\n",
        "      <td>221010015</td>\n",
        "      <td>WALTER</td>\n",
        "      <td>W</td>\n",
        "      <td>NaN</td>\n",
        "      <td>NaN</td>\n",
        "      <td>11001975</td>\n",
        "      <td>4251890</td>\n",
        "    </tr>\n",
        "  </tbody>\n",
        "</table>\n",
        "</div>"
       ],
       "metadata": {},
       "output_type": "pyout",
       "prompt_number": 21,
       "text": [
        "         ssn      lastname firstname middle verified_type  date_of_death  \\\n",
        "0  221010002          RYAN    GEORGE    NaN           NaN        9001974   \n",
        "1  221010004  STANISZEWSKI  BOLESLAW    NaN           NaN        4001980   \n",
        "2  221010006    BREWINGTON    GEORGE    NaN           NaN        2001974   \n",
        "3  221010011        BETLEY      JOHN    NaN           NaN        6001982   \n",
        "4  221010015        WALTER         W    NaN           NaN       11001975   \n",
        "\n",
        "   date_of_birth  \n",
        "0        8021900  \n",
        "1        9281896  \n",
        "2        9061890  \n",
        "3       12271915  \n",
        "4        4251890  "
       ]
      }
     ],
     "prompt_number": 21
    },
    {
     "cell_type": "markdown",
     "metadata": {},
     "source": [
      "#### Transformations:\n",
      "\n",
      "* remove name columns -> who needs them\n",
      "* change date of death and birth into datetimes\n",
      "* investigate how many are verified"
     ]
    },
    {
     "cell_type": "code",
     "collapsed": false,
     "input": [
      "del_ssn_data = delaware_ssns.drop(['lastname', 'firstname', 'middle', 'date_of_death'], axis=1)\n",
      "print del_ssn_data.shape"
     ],
     "language": "python",
     "metadata": {},
     "outputs": [
      {
       "output_type": "stream",
       "stream": "stdout",
       "text": [
        "(177715, 3)\n"
       ]
      }
     ],
     "prompt_number": 99
    },
    {
     "cell_type": "code",
     "collapsed": false,
     "input": [
      "past_1989 = del_ssn_data[\"date_of_birth\"].apply(lambda x: int(str(x)[-4:])) >= 1989"
     ],
     "language": "python",
     "metadata": {},
     "outputs": [],
     "prompt_number": 100
    },
    {
     "cell_type": "code",
     "collapsed": false,
     "input": [
      "del_ssn_data = del_ssn_data[past_1989]\n",
      "print del_ssn_data.shape"
     ],
     "language": "python",
     "metadata": {},
     "outputs": [
      {
       "output_type": "stream",
       "stream": "stdout",
       "text": [
        "(605, 3)\n"
       ]
      }
     ],
     "prompt_number": 101
    },
    {
     "cell_type": "code",
     "collapsed": false,
     "input": [
      "valid_middle_dates = del_ssn_data[\"date_of_birth\"].apply(lambda x: str(x)[-6:-4]) != \"00\""
     ],
     "language": "python",
     "metadata": {},
     "outputs": [],
     "prompt_number": 102
    },
    {
     "cell_type": "code",
     "collapsed": false,
     "input": [
      "del_ssn_data = del_ssn_data[valid_middle_dates]\n",
      "print del_ssn_data.shape"
     ],
     "language": "python",
     "metadata": {},
     "outputs": [
      {
       "output_type": "stream",
       "stream": "stdout",
       "text": [
        "(605, 3)\n"
       ]
      }
     ],
     "prompt_number": 103
    },
    {
     "cell_type": "code",
     "collapsed": false,
     "input": [
      "del_ssn_data.head()"
     ],
     "language": "python",
     "metadata": {},
     "outputs": [
      {
       "html": [
        "<div style=\"max-width:1500px;overflow:auto;\">\n",
        "<table border=\"1\" class=\"dataframe\">\n",
        "  <thead>\n",
        "    <tr style=\"text-align: right;\">\n",
        "      <th></th>\n",
        "      <th>ssn</th>\n",
        "      <th>verified_type</th>\n",
        "      <th>date_of_birth</th>\n",
        "    </tr>\n",
        "  </thead>\n",
        "  <tbody>\n",
        "    <tr>\n",
        "      <th>6653</th>\n",
        "      <td>221020739</td>\n",
        "      <td>P</td>\n",
        "      <td>11222004</td>\n",
        "    </tr>\n",
        "    <tr>\n",
        "      <th>6654</th>\n",
        "      <td>221020740</td>\n",
        "      <td>P</td>\n",
        "      <td>11222004</td>\n",
        "    </tr>\n",
        "    <tr>\n",
        "      <th>6655</th>\n",
        "      <td>221021043</td>\n",
        "      <td>P</td>\n",
        "      <td>11302004</td>\n",
        "    </tr>\n",
        "    <tr>\n",
        "      <th>6656</th>\n",
        "      <td>221021268</td>\n",
        "      <td>P</td>\n",
        "      <td>12122004</td>\n",
        "    </tr>\n",
        "    <tr>\n",
        "      <th>6657</th>\n",
        "      <td>221021440</td>\n",
        "      <td>NaN</td>\n",
        "      <td>1012005</td>\n",
        "    </tr>\n",
        "  </tbody>\n",
        "</table>\n",
        "</div>"
       ],
       "metadata": {},
       "output_type": "pyout",
       "prompt_number": 104,
       "text": [
        "            ssn verified_type  date_of_birth\n",
        "6653  221020739             P       11222004\n",
        "6654  221020740             P       11222004\n",
        "6655  221021043             P       11302004\n",
        "6656  221021268             P       12122004\n",
        "6657  221021440           NaN        1012005"
       ]
      }
     ],
     "prompt_number": 104
    },
    {
     "cell_type": "code",
     "collapsed": true,
     "input": [
      "# for data cleaning need to add a leading zero to make life easier\n",
      "def date_helper(x):\n",
      "    x = str(x)\n",
      "    if len(x) == 7:\n",
      "        return '0' + x\n",
      "    else:\n",
      "        return x\n",
      "    "
     ],
     "language": "python",
     "metadata": {},
     "outputs": [],
     "prompt_number": 105
    },
    {
     "cell_type": "code",
     "collapsed": false,
     "input": [
      "#del_ssn_data[\"date_of_death\"] = pd.to_datetime(del_ssn_data[\"date_of_death\"])\n",
      "#del_ssn_data[\"date_of_birth\"] = pd.to_datetime(del_ssn_data[\"date_of_birth\"])"
     ],
     "language": "python",
     "metadata": {},
     "outputs": [],
     "prompt_number": 106
    },
    {
     "cell_type": "code",
     "collapsed": false,
     "input": [
      "del_ssn_data.head()"
     ],
     "language": "python",
     "metadata": {},
     "outputs": [
      {
       "html": [
        "<div style=\"max-width:1500px;overflow:auto;\">\n",
        "<table border=\"1\" class=\"dataframe\">\n",
        "  <thead>\n",
        "    <tr style=\"text-align: right;\">\n",
        "      <th></th>\n",
        "      <th>ssn</th>\n",
        "      <th>verified_type</th>\n",
        "      <th>date_of_birth</th>\n",
        "    </tr>\n",
        "  </thead>\n",
        "  <tbody>\n",
        "    <tr>\n",
        "      <th>6653</th>\n",
        "      <td>221020739</td>\n",
        "      <td>P</td>\n",
        "      <td>11222004</td>\n",
        "    </tr>\n",
        "    <tr>\n",
        "      <th>6654</th>\n",
        "      <td>221020740</td>\n",
        "      <td>P</td>\n",
        "      <td>11222004</td>\n",
        "    </tr>\n",
        "    <tr>\n",
        "      <th>6655</th>\n",
        "      <td>221021043</td>\n",
        "      <td>P</td>\n",
        "      <td>11302004</td>\n",
        "    </tr>\n",
        "    <tr>\n",
        "      <th>6656</th>\n",
        "      <td>221021268</td>\n",
        "      <td>P</td>\n",
        "      <td>12122004</td>\n",
        "    </tr>\n",
        "    <tr>\n",
        "      <th>6657</th>\n",
        "      <td>221021440</td>\n",
        "      <td>NaN</td>\n",
        "      <td>1012005</td>\n",
        "    </tr>\n",
        "  </tbody>\n",
        "</table>\n",
        "</div>"
       ],
       "metadata": {},
       "output_type": "pyout",
       "prompt_number": 107,
       "text": [
        "            ssn verified_type  date_of_birth\n",
        "6653  221020739             P       11222004\n",
        "6654  221020740             P       11222004\n",
        "6655  221021043             P       11302004\n",
        "6656  221021268             P       12122004\n",
        "6657  221021440           NaN        1012005"
       ]
      }
     ],
     "prompt_number": 107
    },
    {
     "cell_type": "code",
     "collapsed": false,
     "input": [
      "del_ssn_data['date_of_birth'] = del_ssn_data['date_of_birth'].apply(lambda x: pd.to_datetime(date_helper(x), format='%m%d%Y', errors='coerce'))"
     ],
     "language": "python",
     "metadata": {},
     "outputs": [],
     "prompt_number": 108
    },
    {
     "cell_type": "code",
     "collapsed": false,
     "input": [
      "#del_ssn_data['date_of_birth'] = del_ssn_data['date_of_birth'].apply(lambda x: pd.to_datetime(date_helper(x), format='%m%d%Y', errors='coerce'))"
     ],
     "language": "python",
     "metadata": {},
     "outputs": [],
     "prompt_number": 109
    },
    {
     "cell_type": "code",
     "collapsed": false,
     "input": [
      "verified_del_ssn = del_ssn_data[pd.notnull(del_ssn_data['verified_type'])]"
     ],
     "language": "python",
     "metadata": {},
     "outputs": [],
     "prompt_number": 110
    },
    {
     "cell_type": "code",
     "collapsed": false,
     "input": [
      "verified_del_ssn.head()"
     ],
     "language": "python",
     "metadata": {},
     "outputs": [
      {
       "html": [
        "<div style=\"max-width:1500px;overflow:auto;\">\n",
        "<table border=\"1\" class=\"dataframe\">\n",
        "  <thead>\n",
        "    <tr style=\"text-align: right;\">\n",
        "      <th></th>\n",
        "      <th>ssn</th>\n",
        "      <th>verified_type</th>\n",
        "      <th>date_of_birth</th>\n",
        "    </tr>\n",
        "  </thead>\n",
        "  <tbody>\n",
        "    <tr>\n",
        "      <th>6653</th>\n",
        "      <td>221020739</td>\n",
        "      <td>P</td>\n",
        "      <td>2004-11-22</td>\n",
        "    </tr>\n",
        "    <tr>\n",
        "      <th>6654</th>\n",
        "      <td>221020740</td>\n",
        "      <td>P</td>\n",
        "      <td>2004-11-22</td>\n",
        "    </tr>\n",
        "    <tr>\n",
        "      <th>6655</th>\n",
        "      <td>221021043</td>\n",
        "      <td>P</td>\n",
        "      <td>2004-11-30</td>\n",
        "    </tr>\n",
        "    <tr>\n",
        "      <th>6656</th>\n",
        "      <td>221021268</td>\n",
        "      <td>P</td>\n",
        "      <td>2004-12-12</td>\n",
        "    </tr>\n",
        "    <tr>\n",
        "      <th>6658</th>\n",
        "      <td>221021911</td>\n",
        "      <td>P</td>\n",
        "      <td>2004-12-20</td>\n",
        "    </tr>\n",
        "  </tbody>\n",
        "</table>\n",
        "</div>"
       ],
       "metadata": {},
       "output_type": "pyout",
       "prompt_number": 111,
       "text": [
        "            ssn verified_type date_of_birth\n",
        "6653  221020739             P    2004-11-22\n",
        "6654  221020740             P    2004-11-22\n",
        "6655  221021043             P    2004-11-30\n",
        "6656  221021268             P    2004-12-12\n",
        "6658  221021911             P    2004-12-20"
       ]
      }
     ],
     "prompt_number": 111
    },
    {
     "cell_type": "code",
     "collapsed": false,
     "input": [
      "#(verified_del_ssn['date_of_death'] - verified_del_ssn['date_of_birth']).astype('timedelta64[Y]').hist()"
     ],
     "language": "python",
     "metadata": {
      "scrolled": false
     },
     "outputs": [],
     "prompt_number": 112
    },
    {
     "cell_type": "code",
     "collapsed": false,
     "input": [
      "str(verified_del_ssn['ssn'].iloc[1])[:3]"
     ],
     "language": "python",
     "metadata": {},
     "outputs": [
      {
       "metadata": {},
       "output_type": "pyout",
       "prompt_number": 113,
       "text": [
        "'221'"
       ]
      }
     ],
     "prompt_number": 113
    },
    {
     "cell_type": "code",
     "collapsed": false,
     "input": [
      "str(verified_del_ssn['ssn'].iloc[1])[3:5]"
     ],
     "language": "python",
     "metadata": {},
     "outputs": [
      {
       "metadata": {},
       "output_type": "pyout",
       "prompt_number": 114,
       "text": [
        "'02'"
       ]
      }
     ],
     "prompt_number": 114
    },
    {
     "cell_type": "code",
     "collapsed": false,
     "input": [
      "str(verified_del_ssn['ssn'].iloc[1])[5:]"
     ],
     "language": "python",
     "metadata": {},
     "outputs": [
      {
       "metadata": {},
       "output_type": "pyout",
       "prompt_number": 115,
       "text": [
        "'0740'"
       ]
      }
     ],
     "prompt_number": 115
    },
    {
     "cell_type": "code",
     "collapsed": false,
     "input": [
      "def split_ssn_col(col):\n",
      "    out_arr = np.empty((len(col), 3))\n",
      "    for i,row in enumerate(col):\n",
      "        row = str(row)\n",
      "        aaa = int(row[:3])\n",
      "        gg = int(row[3:5])\n",
      "        ssss = int(row[5:])\n",
      "        out_arr[i] = [aaa,gg,ssss] \n",
      "    return out_arr"
     ],
     "language": "python",
     "metadata": {},
     "outputs": [],
     "prompt_number": 116
    },
    {
     "cell_type": "code",
     "collapsed": false,
     "input": [
      "split_ssns = split_ssn_col(verified_del_ssn['ssn'])"
     ],
     "language": "python",
     "metadata": {},
     "outputs": [],
     "prompt_number": 117
    },
    {
     "cell_type": "code",
     "collapsed": false,
     "input": [
      "split_ssns[:,1] = np.array([grp_to_ordered(i) for i in split_ssns[:,1]])"
     ],
     "language": "python",
     "metadata": {},
     "outputs": [],
     "prompt_number": 118
    },
    {
     "cell_type": "code",
     "collapsed": false,
     "input": [
      "split_ssns"
     ],
     "language": "python",
     "metadata": {},
     "outputs": [
      {
       "metadata": {},
       "output_type": "pyout",
       "prompt_number": 119,
       "text": [
        "array([[  221.,    50.,   739.],\n",
        "       [  221.,    50.,   740.],\n",
        "       [  221.,    50.,  1043.],\n",
        "       ..., \n",
        "       [  222.,    49.,  9260.],\n",
        "       [  222.,    49.,  9612.],\n",
        "       [  222.,    49.,  9897.]])"
       ]
      }
     ],
     "prompt_number": 119
    },
    {
     "cell_type": "code",
     "collapsed": false,
     "input": [
      "ordered = np.empty((len(split_ssns),1))"
     ],
     "language": "python",
     "metadata": {},
     "outputs": [],
     "prompt_number": 120
    },
    {
     "cell_type": "code",
     "collapsed": false,
     "input": [
      "for i, _ in enumerate(ordered):\n",
      "    ordered[i] = (split_ssns[i, 1] * 10000) + split_ssns[i, 2]"
     ],
     "language": "python",
     "metadata": {},
     "outputs": [],
     "prompt_number": 121
    },
    {
     "cell_type": "code",
     "collapsed": false,
     "input": [
      "ordered = ordered[:,0]"
     ],
     "language": "python",
     "metadata": {},
     "outputs": [],
     "prompt_number": 122
    },
    {
     "cell_type": "code",
     "collapsed": false,
     "input": [
      "final_df = pd.DataFrame.from_dict({'DOB' : verified_del_ssn['date_of_birth'], 'ord' : ordered})"
     ],
     "language": "python",
     "metadata": {},
     "outputs": [],
     "prompt_number": 259
    },
    {
     "cell_type": "code",
     "collapsed": false,
     "input": [
      "verified_del_ssn['date_of_birth'].shape"
     ],
     "language": "python",
     "metadata": {},
     "outputs": [
      {
       "metadata": {},
       "output_type": "pyout",
       "prompt_number": 260,
       "text": [
        "(462,)"
       ]
      }
     ],
     "prompt_number": 260
    },
    {
     "cell_type": "code",
     "collapsed": false,
     "input": [
      "ordered.shape"
     ],
     "language": "python",
     "metadata": {},
     "outputs": [
      {
       "metadata": {},
       "output_type": "pyout",
       "prompt_number": 261,
       "text": [
        "(462,)"
       ]
      }
     ],
     "prompt_number": 261
    },
    {
     "cell_type": "code",
     "collapsed": false,
     "input": [
      "final_df.head()\n",
      "print final_df.shape"
     ],
     "language": "python",
     "metadata": {},
     "outputs": [
      {
       "output_type": "stream",
       "stream": "stdout",
       "text": [
        "(462, 2)\n"
       ]
      }
     ],
     "prompt_number": 262
    },
    {
     "cell_type": "code",
     "collapsed": true,
     "input": [],
     "language": "python",
     "metadata": {},
     "outputs": [],
     "prompt_number": 391
    },
    {
     "cell_type": "code",
     "collapsed": false,
     "input": [
      "plt.plot_date(final_df.values[:, 0], final_df.values[:, 1])\n"
     ],
     "language": "python",
     "metadata": {},
     "outputs": [
      {
       "metadata": {},
       "output_type": "pyout",
       "prompt_number": 392,
       "text": [
        "[<matplotlib.lines.Line2D at 0x11b15fcd0>]"
       ]
      },
      {
       "metadata": {},
       "output_type": "display_data",
       "png": "[encoded data removed]",
       "text": [
        "<matplotlib.figure.Figure at 0x11b04c0d0>"
       ]
      }
     ],
     "prompt_number": 392
    },
    {
     "cell_type": "code",
     "collapsed": false,
     "input": [
      "remove_three_bad_vals = ~((final_df[\"DOB\"] <  pd.Timestamp('1994-01-01')) & (final_df[\"ord\"] > 430000))\n",
      "final_df = final_df[remove_three_bad_vals]\n",
      "remove_randomized_values_post_2011 = ~((final_df[\"DOB\"] >  pd.Timestamp('2011-04-01')))\n",
      "final_df = final_df[remove_randomized_values_post_2011]\n",
      "plt.plot_date(final_df.values[:, 0], final_df.values[:, 1])\n"
     ],
     "language": "python",
     "metadata": {},
     "outputs": [
      {
       "metadata": {},
       "output_type": "pyout",
       "prompt_number": 393,
       "text": [
        "[<matplotlib.lines.Line2D at 0x11bb54810>]"
       ]
      },
      {
       "metadata": {},
       "output_type": "display_data",
       "png": "[encoded data removed]",
       "text": [
        "<matplotlib.figure.Figure at 0x11b042350>"
       ]
      }
     ],
     "prompt_number": 393
    },
    {
     "cell_type": "code",
     "collapsed": false,
     "input": [],
     "language": "python",
     "metadata": {},
     "outputs": [],
     "prompt_number": 455
    },
    {
     "cell_type": "code",
     "collapsed": false,
     "input": [
      "\n",
      "from sklearn.model_selection import train_test_split"
     ],
     "language": "python",
     "metadata": {},
     "outputs": [],
     "prompt_number": 394
    },
    {
     "cell_type": "code",
     "collapsed": false,
     "input": [
      "X_train, X_test, y_train, y_test = train_test_split(final_df.values[:, 0], final_df.values[:, 1], test_size=0.2, random_state=42)"
     ],
     "language": "python",
     "metadata": {},
     "outputs": [],
     "prompt_number": 630
    },
    {
     "cell_type": "code",
     "collapsed": false,
     "input": [
      "X_train_converted = np.array([pd.Timestamp(x).value for x in X_train]).reshape(-1, 1)\n",
      "y_train_converted = np.array([pd.Timestamp(x).value for x in y_train]).reshape(-1, 1)\n",
      "X_test_converted = np.array([pd.Timestamp(x).value for x in X_test]).reshape(-1, 1)\n",
      "y_test_converted = np.array([pd.Timestamp(x).value for x in y_test]).reshape(-1, 1)"
     ],
     "language": "python",
     "metadata": {},
     "outputs": [],
     "prompt_number": 631
    },
    {
     "cell_type": "code",
     "collapsed": false,
     "input": [
      "def basis_function(mat):\n",
      "    res = []\n",
      "    for elem in mat:\n",
      "        x = elem[0]\n",
      "        res.append([x, x*np.sin(x)])\n",
      "    return np.array(res)"
     ],
     "language": "python",
     "metadata": {},
     "outputs": [],
     "prompt_number": 632
    },
    {
     "cell_type": "code",
     "collapsed": false,
     "input": [
      "X_train_converted = basis_function(X_train_converted)\n",
      "#y_train_converted = basis_function(y_train_converted)\n",
      "X_test_converted = basis_function(X_test_converted)\n",
      "#y_test_converted = basis_function(y_test_converted)"
     ],
     "language": "python",
     "metadata": {},
     "outputs": [],
     "prompt_number": 633
    },
    {
     "cell_type": "code",
     "collapsed": false,
     "input": [
      "#from datetime import date"
     ],
     "language": "python",
     "metadata": {},
     "outputs": [],
     "prompt_number": 634
    },
    {
     "cell_type": "code",
     "collapsed": false,
     "input": [],
     "language": "python",
     "metadata": {},
     "outputs": [],
     "prompt_number": 634
    },
    {
     "cell_type": "code",
     "collapsed": false,
     "input": [
      "from sklearn import linear_model\n",
      "regr = linear_model.LinearRegression()\n",
      "mdl = regr.fit(X_train_converted, y_train_converted)"
     ],
     "language": "python",
     "metadata": {},
     "outputs": [],
     "prompt_number": 635
    },
    {
     "cell_type": "code",
     "collapsed": false,
     "input": [
      "mdl.intercept_"
     ],
     "language": "python",
     "metadata": {},
     "outputs": [
      {
       "metadata": {},
       "output_type": "pyout",
       "prompt_number": 636,
       "text": [
        "array([ 251095.75763564])"
       ]
      }
     ],
     "prompt_number": 636
    },
    {
     "cell_type": "code",
     "collapsed": false,
     "input": [
      "mdl.coef_"
     ],
     "language": "python",
     "metadata": {},
     "outputs": [
      {
       "metadata": {},
       "output_type": "pyout",
       "prompt_number": 637,
       "text": [
        "array([[  2.27411830e-13,  -4.48469090e-16]])"
       ]
      }
     ],
     "prompt_number": 637
    },
    {
     "cell_type": "code",
     "collapsed": false,
     "input": [
      "mdl.residues_"
     ],
     "language": "python",
     "metadata": {},
     "outputs": [
      {
       "output_type": "stream",
       "stream": "stderr",
       "text": [
        "/Library/Python/2.7/site-packages/sklearn/utils/deprecation.py:70: DeprecationWarning: Function residues_ is deprecated; ``residues_`` is deprecated and will be removed in 0.19\n",
        "  warnings.warn(msg, category=DeprecationWarning)\n"
       ]
      },
      {
       "metadata": {},
       "output_type": "pyout",
       "prompt_number": 638,
       "text": [
        "array([  4.17487369e+09])"
       ]
      }
     ],
     "prompt_number": 638
    },
    {
     "cell_type": "code",
     "collapsed": false,
     "input": [
      "variance = mdl.residues_[0]/X_train.shape[0]"
     ],
     "language": "python",
     "metadata": {},
     "outputs": [
      {
       "output_type": "stream",
       "stream": "stderr",
       "text": [
        "/Library/Python/2.7/site-packages/sklearn/utils/deprecation.py:70: DeprecationWarning: Function residues_ is deprecated; ``residues_`` is deprecated and will be removed in 0.19\n",
        "  warnings.warn(msg, category=DeprecationWarning)\n"
       ]
      }
     ],
     "prompt_number": 639
    },
    {
     "cell_type": "code",
     "collapsed": false,
     "input": [],
     "language": "python",
     "metadata": {},
     "outputs": [],
     "prompt_number": 639
    },
    {
     "cell_type": "code",
     "collapsed": false,
     "input": [
      "std_dev = np.sqrt(variance)"
     ],
     "language": "python",
     "metadata": {},
     "outputs": [],
     "prompt_number": 640
    },
    {
     "cell_type": "code",
     "collapsed": false,
     "input": [
      "preds = mdl.predict(np.array(X_test_converted))"
     ],
     "language": "python",
     "metadata": {},
     "outputs": [],
     "prompt_number": 641
    },
    {
     "cell_type": "code",
     "collapsed": false,
     "input": [],
     "language": "python",
     "metadata": {},
     "outputs": [],
     "prompt_number": 641
    },
    {
     "cell_type": "code",
     "collapsed": true,
     "input": [
      "# start = pd.Timestamp('1989-01-01')\n",
      "# end = pd.Timestamp('2015-12-30')\n",
      "# t = np.linspace(start.value, end.value, 100)"
     ],
     "language": "python",
     "metadata": {},
     "outputs": [],
     "prompt_number": 642
    },
    {
     "cell_type": "code",
     "collapsed": false,
     "input": [
      "# plot results on graph\n",
      "\n",
      "fig, ax = plt.subplots(1)\n",
      "\n",
      "ax.plot_date(X_test, y_test)\n",
      "ax.plot_date(X_test, preds)\n",
      "#ax.plot([pd.to_datetime(i) for i in t], prd)"
     ],
     "language": "python",
     "metadata": {},
     "outputs": [
      {
       "metadata": {},
       "output_type": "pyout",
       "prompt_number": 643,
       "text": [
        "[<matplotlib.lines.Line2D at 0x11efa1210>]"
       ]
      },
      {
       "metadata": {},
       "output_type": "display_data",
       "png": "[encoded data removed]",
       "text": [
        "<matplotlib.figure.Figure at 0x11ed3b1d0>"
       ]
      }
     ],
     "prompt_number": 643
    },
    {
     "cell_type": "code",
     "collapsed": false,
     "input": [
      "#[pd.to_datetime(i) for i in t]"
     ],
     "language": "python",
     "metadata": {},
     "outputs": [],
     "prompt_number": 644
    },
    {
     "cell_type": "code",
     "collapsed": true,
     "input": [
      "# Now for each point, assume that the noise is Gaussian distribution with mean 0, and variance equal to the regression variance."
     ],
     "language": "python",
     "metadata": {},
     "outputs": [],
     "prompt_number": 645
    },
    {
     "cell_type": "code",
     "collapsed": false,
     "input": [],
     "language": "python",
     "metadata": {},
     "outputs": [],
     "prompt_number": 645
    },
    {
     "cell_type": "code",
     "collapsed": true,
     "input": [
      "from scipy.stats import norm"
     ],
     "language": "python",
     "metadata": {},
     "outputs": [],
     "prompt_number": 646
    },
    {
     "cell_type": "code",
     "collapsed": false,
     "input": [
      "saved = []\n",
      "for i in range(len(y_test)):\n",
      "    y_test_val = int(y_test[i])\n",
      "    pred_val = preds[i][0]\n",
      "    num_tries = 0\n",
      "    while True:\n",
      "        num_tries += 1\n",
      "        sample = int(np.random.normal(loc=pred_val, scale=std_dev, size=1))\n",
      "        if sample == y_test_val:\n",
      "            break\n",
      "    saved.append(num_tries)\n",
      "    #print i, num_tries\n",
      "print \"Median number of guesses needed\", np.median(saved)\n",
      "        \n",
      "    "
     ],
     "language": "python",
     "metadata": {},
     "outputs": [
      {
       "output_type": "stream",
       "stream": "stdout",
       "text": [
        "11357.0\n"
       ]
      }
     ],
     "prompt_number": 650
    },
    {
     "cell_type": "code",
     "collapsed": false,
     "input": [],
     "language": "python",
     "metadata": {},
     "outputs": []
    }
   ],
   "metadata": {}
  }
 ]
}